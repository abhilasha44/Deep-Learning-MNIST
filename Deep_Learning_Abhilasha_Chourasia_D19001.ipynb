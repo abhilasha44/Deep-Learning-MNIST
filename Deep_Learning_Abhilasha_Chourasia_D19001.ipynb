{
  "nbformat": 4,
  "nbformat_minor": 0,
  "metadata": {
    "colab": {
      "name": "Deep_Learning_Abhilasha Chourasia_D19001.ipynb",
      "provenance": [],
      "collapsed_sections": []
    },
    "kernelspec": {
      "name": "python3",
      "display_name": "Python 3"
    }
  },
  "cells": [
    {
      "cell_type": "markdown",
      "metadata": {
        "id": "skJvYAA6j0YW",
        "colab_type": "text"
      },
      "source": [
        "**Import** **Libraries**"
      ]
    },
    {
      "cell_type": "code",
      "metadata": {
        "id": "fL4tW5j-eVOA",
        "colab_type": "code",
        "colab": {
          "base_uri": "https://localhost:8080/",
          "height": 35
        },
        "outputId": "055d2b82-cfd0-43ff-bab1-5fdc8064688c"
      },
      "source": [
        "#!pip3 install torch torchvision\n",
        "\n",
        "# This Python 3 environment comes with many helpful analytics libraries installed\n",
        "# It is defined by the kaggle/python docker image: https://github.com/kaggle/docker-python\n",
        "# For example, here's several helpful packages to load in \n",
        "\n",
        "import numpy as np # linear algebra\n",
        "import pandas as pd # data processing, CSV file I/O (e.g. pd.read_csv)\n",
        "\n",
        "# Input data files are available in the \"../input/\" directory.\n",
        "# For example, running this (by clicking run or pressing Shift+Enter) will list the files in the input directory\n",
        "\n",
        "import os\n",
        "#print(\"List of files\",os.listdir(\"../input\"))\n",
        "import torch\n",
        "import numpy as np\n",
        "print(\"Torch Version:\",torch.__version__)\n",
        "# Any results you write to the current directory are saved as output."
      ],
      "execution_count": 3,
      "outputs": [
        {
          "output_type": "stream",
          "text": [
            "Torch Version: 1.3.1\n"
          ],
          "name": "stdout"
        }
      ]
    },
    {
      "cell_type": "markdown",
      "metadata": {
        "id": "yF_6rjqXjdIf",
        "colab_type": "text"
      },
      "source": [
        "**Helper** **Function**"
      ]
    },
    {
      "cell_type": "code",
      "metadata": {
        "id": "ld08bxlShoTQ",
        "colab_type": "code",
        "colab": {}
      },
      "source": [
        "import matplotlib.pyplot as plt\n",
        "import numpy as np\n",
        "from torch import nn, optim\n",
        "from torch.autograd import Variable\n",
        "\n",
        "\n",
        "def test_network(net, trainloader):\n",
        "\n",
        "    criterion = nn.MSELoss()\n",
        "    optimizer = optim.Adam(net.parameters(), lr=0.001)\n",
        "\n",
        "    dataiter = iter(trainloader)\n",
        "    images, labels = dataiter.next()\n",
        "\n",
        "    # Create Variables for the inputs and targets\n",
        "    inputs = Variable(images)\n",
        "    targets = Variable(images)\n",
        "\n",
        "    # Clear the gradients from all Variables\n",
        "    optimizer.zero_grad()\n",
        "\n",
        "    # Forward pass, then backward pass, then update weights\n",
        "    output = net.forward(inputs)\n",
        "    loss = criterion(output, targets)\n",
        "    loss.backward()\n",
        "    optimizer.step()\n",
        "\n",
        "    return True\n",
        "\n",
        "\n",
        "def imshow(image, ax=None, title=None, normalize=True):\n",
        "    \"\"\"Imshow for Tensor.\"\"\"\n",
        "    if ax is None:\n",
        "        fig, ax = plt.subplots()\n",
        "    image = image.numpy().transpose((1, 2, 0))\n",
        "\n",
        "    if normalize:\n",
        "        mean = np.array([0.485, 0.456, 0.406])\n",
        "        std = np.array([0.229, 0.224, 0.225])\n",
        "        image = std * image + mean\n",
        "        image = np.clip(image, 0, 1)\n",
        "\n",
        "    ax.imshow(image)\n",
        "    ax.spines['top'].set_visible(False)\n",
        "    ax.spines['right'].set_visible(False)\n",
        "    ax.spines['left'].set_visible(False)\n",
        "    ax.spines['bottom'].set_visible(False)\n",
        "    ax.tick_params(axis='both', length=0)\n",
        "    ax.set_xticklabels('')\n",
        "    ax.set_yticklabels('')\n",
        "\n",
        "    return ax\n",
        "\n",
        "\n",
        "def view_recon(img, recon):\n",
        "    ''' Function for displaying an image (as a PyTorch Tensor) and its\n",
        "        reconstruction also a PyTorch Tensor\n",
        "    '''\n",
        "\n",
        "    fig, axes = plt.subplots(ncols=2, sharex=True, sharey=True)\n",
        "    axes[0].imshow(img.numpy().squeeze())\n",
        "    axes[1].imshow(recon.data.numpy().squeeze())\n",
        "    for ax in axes:\n",
        "        ax.axis('off')\n",
        "        ax.set_adjustable('box-forced')\n",
        "\n",
        "def view_classify(img, ps, version=\"MNIST\"):\n",
        "    ''' Function for viewing an image and it's predicted classes.\n",
        "    '''\n",
        "    ps = ps.data.numpy().squeeze()\n",
        "\n",
        "    fig, (ax1, ax2) = plt.subplots(figsize=(6,9), ncols=2)\n",
        "    ax1.imshow(img.resize_(1, 28, 28).numpy().squeeze())\n",
        "    ax1.axis('off')\n",
        "    ax2.barh(np.arange(10), ps)\n",
        "    ax2.set_aspect(0.1)\n",
        "    ax2.set_yticks(np.arange(10))\n",
        "    if version == \"MNIST\":\n",
        "        ax2.set_yticklabels(np.arange(10))\n",
        "    elif version == \"Fashion\":\n",
        "        ax2.set_yticklabels(['T-shirt/top',\n",
        "                            'Trouser',\n",
        "                            'Pullover',\n",
        "                            'Dress',\n",
        "                            'Coat',\n",
        "                            'Sandal',\n",
        "                            'Shirt',\n",
        "                            'Sneaker',\n",
        "                            'Bag',\n",
        "                            'Ankle Boot'], size='small');\n",
        "    ax2.set_title('Class Probability')\n",
        "    ax2.set_xlim(0, 1.1)\n",
        "\n",
        "    plt.tight_layout()\n"
      ],
      "execution_count": 0,
      "outputs": []
    },
    {
      "cell_type": "code",
      "metadata": {
        "id": "J1qWkPJehoXy",
        "colab_type": "code",
        "colab": {
          "base_uri": "https://localhost:8080/",
          "height": 35
        },
        "outputId": "13600d67-371d-44f5-fda3-cb65e4a5b257"
      },
      "source": [
        "features=torch.randn(1,3)\n",
        "print(f'Number of Inout features:{features.shape[1]}')\n",
        "n_input=features.shape[1]   #3 input neuron\n",
        "n_hidden=2     #two hidden neuron\n",
        "n_output=1     #one output neuron\n",
        "#Weights for input to hidden layer\n",
        "W1=torch.randn(n_input,n_hidden)\n",
        "W2=torch.randn(n_hidden,n_output)\n",
        "#Bias term for hidden and output layer\n",
        "B1=torch.randn(n_hidden)\n",
        "B2=torch.randn(n_output)"
      ],
      "execution_count": 5,
      "outputs": [
        {
          "output_type": "stream",
          "text": [
            "Number of Inout features:3\n"
          ],
          "name": "stdout"
        }
      ]
    },
    {
      "cell_type": "code",
      "metadata": {
        "id": "AzK_VObvhohh",
        "colab_type": "code",
        "colab": {}
      },
      "source": [
        "#Using a Sigmoid Activation Function\n",
        "def activation(x):\n",
        "    return(1/1+torch.exp(-x))"
      ],
      "execution_count": 0,
      "outputs": []
    },
    {
      "cell_type": "code",
      "metadata": {
        "id": "WVJjHSTiholX",
        "colab_type": "code",
        "colab": {
          "base_uri": "https://localhost:8080/",
          "height": 52
        },
        "outputId": "c3c34555-bb8b-485d-9d71-72d6f332dabe"
      },
      "source": [
        "h1=activation(torch.matmul(features,W1)+B1)\n",
        "print(f'Hidden Layer activations:{h1}')\n",
        "out=activation(torch.matmul(h1,W2)+B2)\n",
        "print(f'Output of the network:{out}')"
      ],
      "execution_count": 7,
      "outputs": [
        {
          "output_type": "stream",
          "text": [
            "Hidden Layer activations:tensor([[ 1.3230, 99.3338]])\n",
            "Output of the network:tensor([[4078836.5000]])\n"
          ],
          "name": "stdout"
        }
      ]
    },
    {
      "cell_type": "markdown",
      "metadata": {
        "id": "TH5-XauOnQkL",
        "colab_type": "text"
      },
      "source": [
        "###Building our Network\n",
        "\n",
        "\n",
        "Now we're going to build a larger network that can solve a (formerly) difficult problem, identifying text in an image using MNIST data For now our goal will be to build a neural network that can take one of these images and predict the digit in the image.First, let's try to build this network for this dataset using weight matrices and matrix multiplications. Then, we'll see how to do it using PyTorch's nn module which provides a much more convenient and powerful method for defining network architectures."
      ]
    },
    {
      "cell_type": "code",
      "metadata": {
        "id": "yZ7uHGPAhopj",
        "colab_type": "code",
        "colab": {}
      },
      "source": [
        "# Import necessary packages\n",
        "\n",
        "%matplotlib inline\n",
        "%config InlineBackend.figure_format = 'retina'\n",
        "\n",
        "import numpy as np\n",
        "import torch\n",
        "import helper\n",
        "import matplotlib.pyplot as plt"
      ],
      "execution_count": 0,
      "outputs": []
    },
    {
      "cell_type": "markdown",
      "metadata": {
        "id": "HNJrYqQc6-di",
        "colab_type": "text"
      },
      "source": [
        "### Load Dataset \n",
        "First up, we need to get our dataset.Right now we will be using MNIST dataset which is already in`torchvision` package. The code below will download the MNIST dataset, then create training and test datasets for us. \n"
      ]
    },
    {
      "cell_type": "code",
      "metadata": {
        "id": "eaPooFvxm6YJ",
        "colab_type": "code",
        "colab": {
          "base_uri": "https://localhost:8080/",
          "height": 280
        },
        "outputId": "44374f0e-c908-405b-a48e-31a43c901639"
      },
      "source": [
        "from torchvision import datasets, transforms\n",
        "\n",
        "# Define a transform to normalize the data\n",
        "transform = transforms.Compose([transforms.ToTensor(),\n",
        "                              ])\n",
        "\n",
        "# Download and load the training data\n",
        "trainset = datasets.MNIST('MNIST_data/', download=True, train=True, transform=transform)\n",
        "trainloader = torch.utils.data.DataLoader(trainset, batch_size=64, shuffle=True)"
      ],
      "execution_count": 9,
      "outputs": [
        {
          "output_type": "stream",
          "text": [
            "\r0it [00:00, ?it/s]"
          ],
          "name": "stderr"
        },
        {
          "output_type": "stream",
          "text": [
            "Downloading http://yann.lecun.com/exdb/mnist/train-images-idx3-ubyte.gz to MNIST_data/MNIST/raw/train-images-idx3-ubyte.gz\n"
          ],
          "name": "stdout"
        },
        {
          "output_type": "stream",
          "text": [
            "9920512it [00:01, 8435514.52it/s]                            \n"
          ],
          "name": "stderr"
        },
        {
          "output_type": "stream",
          "text": [
            "Extracting MNIST_data/MNIST/raw/train-images-idx3-ubyte.gz to MNIST_data/MNIST/raw\n"
          ],
          "name": "stdout"
        },
        {
          "output_type": "stream",
          "text": [
            "  0%|          | 0/28881 [00:00<?, ?it/s]"
          ],
          "name": "stderr"
        },
        {
          "output_type": "stream",
          "text": [
            "Downloading http://yann.lecun.com/exdb/mnist/train-labels-idx1-ubyte.gz to MNIST_data/MNIST/raw/train-labels-idx1-ubyte.gz\n"
          ],
          "name": "stdout"
        },
        {
          "output_type": "stream",
          "text": [
            "32768it [00:00, 136662.30it/s]           \n",
            "  0%|          | 0/1648877 [00:00<?, ?it/s]"
          ],
          "name": "stderr"
        },
        {
          "output_type": "stream",
          "text": [
            "Extracting MNIST_data/MNIST/raw/train-labels-idx1-ubyte.gz to MNIST_data/MNIST/raw\n",
            "Downloading http://yann.lecun.com/exdb/mnist/t10k-images-idx3-ubyte.gz to MNIST_data/MNIST/raw/t10k-images-idx3-ubyte.gz\n"
          ],
          "name": "stdout"
        },
        {
          "output_type": "stream",
          "text": [
            "1654784it [00:00, 2318800.07it/s]                            \n",
            "0it [00:00, ?it/s]"
          ],
          "name": "stderr"
        },
        {
          "output_type": "stream",
          "text": [
            "Extracting MNIST_data/MNIST/raw/t10k-images-idx3-ubyte.gz to MNIST_data/MNIST/raw\n",
            "Downloading http://yann.lecun.com/exdb/mnist/t10k-labels-idx1-ubyte.gz to MNIST_data/MNIST/raw/t10k-labels-idx1-ubyte.gz\n"
          ],
          "name": "stdout"
        },
        {
          "output_type": "stream",
          "text": [
            "8192it [00:00, 54296.66it/s]            \n"
          ],
          "name": "stderr"
        },
        {
          "output_type": "stream",
          "text": [
            "Extracting MNIST_data/MNIST/raw/t10k-labels-idx1-ubyte.gz to MNIST_data/MNIST/raw\n",
            "Processing...\n",
            "Done!\n"
          ],
          "name": "stdout"
        }
      ]
    },
    {
      "cell_type": "code",
      "metadata": {
        "id": "Wk2xP2TMm6bL",
        "colab_type": "code",
        "colab": {
          "base_uri": "https://localhost:8080/",
          "height": 87
        },
        "outputId": "0244ebfb-527a-4ef7-80e6-25b16a081f6b"
      },
      "source": [
        "dataiter = iter(trainloader)\n",
        "images, labels = dataiter.next()\n",
        "print(type(images))\n",
        "print(images.shape)\n",
        "print(labels.shape)\n",
        "#Printing the size of one image\n",
        "print(images[1].numpy().squeeze().shape)"
      ],
      "execution_count": 10,
      "outputs": [
        {
          "output_type": "stream",
          "text": [
            "<class 'torch.Tensor'>\n",
            "torch.Size([64, 1, 28, 28])\n",
            "torch.Size([64])\n",
            "(28, 28)\n"
          ],
          "name": "stdout"
        }
      ]
    },
    {
      "cell_type": "code",
      "metadata": {
        "id": "tW9SqKUCm6f8",
        "colab_type": "code",
        "colab": {
          "base_uri": "https://localhost:8080/",
          "height": 265
        },
        "outputId": "1dfd9e54-aabe-42dd-ab85-ac24e3e4cd29"
      },
      "source": [
        "#Look at the image\n",
        "plt.imshow(images[1].numpy().squeeze(), cmap='Greys_r');"
      ],
      "execution_count": 11,
      "outputs": [
        {
          "output_type": "display_data",
          "data": {
            "image/png": "[encoded data removed]",
            "text/plain": [
              "<Figure size 432x288 with 1 Axes>"
            ]
          },
          "metadata": {
            "tags": [],
            "image/png": {
              "width": 251,
              "height": 248
            }
          }
        }
      ]
    },
    {
      "cell_type": "code",
      "metadata": {
        "id": "A4-XX7lFm6jA",
        "colab_type": "code",
        "colab": {}
      },
      "source": [
        "#Sigmoid Activation Function\n",
        "def activation(x):\n",
        "    return (1/(1+torch.exp(-x)))\n",
        "\n",
        "#Input 64x784\n",
        "inputs=images.view(images.shape[0],-1)\n",
        "#Number of input features-784\n",
        "n_input=inputs.shape[1]\n",
        "#Number of neurons in hidden layer-256\n",
        "n_hidden=256\n",
        "#Number of output neuron-10\n",
        "n_out=10\n",
        "#Weight at hidden neuron-784x256\n",
        "W1=torch.randn(n_input,n_hidden)\n",
        "#Bias at hidden neuron-256\n",
        "B1=torch.randn(n_hidden)\n",
        "#Weight at output neuron-256x10\n",
        "W2=torch.randn(n_hidden,n_out)\n",
        "#Bias at output neuron-10\n",
        "B2=torch.randn(n_out)\n"
      ],
      "execution_count": 0,
      "outputs": []
    },
    {
      "cell_type": "code",
      "metadata": {
        "id": "tWzW-Op7m6d7",
        "colab_type": "code",
        "colab": {
          "base_uri": "https://localhost:8080/",
          "height": 139
        },
        "outputId": "21832277-b1fe-4d1e-cb74-ccf87376248c"
      },
      "source": [
        "print(\"Shape of a batch of an image:\",images.shape)\n",
        "print(\"Shape of the input to the network:\",inputs.shape)\n",
        "print(\"Shape of the input features:\",n_input)\n",
        "print(\"Shape of the Weight matrix of neurons in the hidden layer\",W1.shape)\n",
        "print(\"Shape of the Bias vector of neurons in the hidden layer\",B1.shape)\n",
        "print(\"Shape of the Weight matrix of neurons in the output layer\",W2.shape)\n",
        "print(\"Shape of the Bias vector of neurons in the output layer\",B2.shape)\n"
      ],
      "execution_count": 13,
      "outputs": [
        {
          "output_type": "stream",
          "text": [
            "Shape of a batch of an image: torch.Size([64, 1, 28, 28])\n",
            "Shape of the input to the network: torch.Size([64, 784])\n",
            "Shape of the input features: 784\n",
            "Shape of the Weight matrix of neurons in the hidden layer torch.Size([784, 256])\n",
            "Shape of the Bias vector of neurons in the hidden layer torch.Size([256])\n",
            "Shape of the Weight matrix of neurons in the output layer torch.Size([256, 10])\n",
            "Shape of the Bias vector of neurons in the output layer torch.Size([10])\n"
          ],
          "name": "stdout"
        }
      ]
    },
    {
      "cell_type": "code",
      "metadata": {
        "id": "Lso-Mv1uqZbS",
        "colab_type": "code",
        "colab": {}
      },
      "source": [
        "#Hidden layer activations\n",
        "h1=activation(torch.mm(inputs,W1)+B1)\n",
        "#Output layer activations\n",
        "out=activation(torch.mm(h1,W2)+B2)"
      ],
      "execution_count": 0,
      "outputs": []
    },
    {
      "cell_type": "code",
      "metadata": {
        "id": "jrG1_CaoqZeQ",
        "colab_type": "code",
        "colab": {
          "base_uri": "https://localhost:8080/",
          "height": 52
        },
        "outputId": "861c2761-5c90-4303-f8df-9afa04eacbcb"
      },
      "source": [
        "print(f'Shape of the Hidden activation of the network{h1.shape}')\n",
        "print(f'Shape of the Output of the network{out.shape}')"
      ],
      "execution_count": 15,
      "outputs": [
        {
          "output_type": "stream",
          "text": [
            "Shape of the Hidden activation of the networktorch.Size([64, 256])\n",
            "Shape of the Output of the networktorch.Size([64, 10])\n"
          ],
          "name": "stdout"
        }
      ]
    },
    {
      "cell_type": "code",
      "metadata": {
        "id": "45_aCO7PqZiK",
        "colab_type": "code",
        "colab": {
          "base_uri": "https://localhost:8080/",
          "height": 52
        },
        "outputId": "21ece749-d081-47f1-a84f-82f881206805"
      },
      "source": [
        "#Let us see the network output to one of the feeded input image\n",
        "out[1]"
      ],
      "execution_count": 16,
      "outputs": [
        {
          "output_type": "execute_result",
          "data": {
            "text/plain": [
              "tensor([8.8146e-01, 2.0596e-07, 1.8745e-01, 4.6168e-04, 4.4423e-04, 6.6391e-08,\n",
              "        9.7014e-01, 9.9996e-01, 1.0000e+00, 9.9992e-01])"
            ]
          },
          "metadata": {
            "tags": []
          },
          "execution_count": 16
        }
      ]
    },
    {
      "cell_type": "markdown",
      "metadata": {
        "id": "WL-5KzmK7LHc",
        "colab_type": "text"
      },
      "source": [
        "\n",
        "### Probability Distribution using Softmax\n",
        "To calculate this probability distribution, we often use the [softmax function](https://en.wikipedia.org/wiki/Softmax_function)\n",
        "$$\n",
        "\\Large \\sigma(x_i) = \\cfrac{e^{x_i}}{\\sum_k^K{e^{x_k}}}\n",
        "$$\n",
        "What this does is squish each input $x_i$ between 0 and 1 and normalizes the values to give you a proper probability distribution where the probabilites sum up to one."
      ]
    },
    {
      "cell_type": "code",
      "metadata": {
        "id": "waXEnkCGqZmg",
        "colab_type": "code",
        "colab": {}
      },
      "source": [
        "def softmax(x):\n",
        "    return(torch.exp(x)/torch.sum(torch.exp(x),dim=1).view(-1,1))"
      ],
      "execution_count": 0,
      "outputs": []
    },
    {
      "cell_type": "code",
      "metadata": {
        "id": "XE0omfPrqzSo",
        "colab_type": "code",
        "colab": {
          "base_uri": "https://localhost:8080/",
          "height": 173
        },
        "outputId": "e135da26-488d-4340-a9e6-ddcfecee91c2"
      },
      "source": [
        "probabilities = softmax(out)\n",
        "# Does it have the right shape? Should be (64, 10)\n",
        "print(probabilities.shape)\n",
        "# Does it sum to 1?\n",
        "print(probabilities.sum(dim=1))"
      ],
      "execution_count": 18,
      "outputs": [
        {
          "output_type": "stream",
          "text": [
            "torch.Size([64, 10])\n",
            "tensor([1.0000, 1.0000, 1.0000, 1.0000, 1.0000, 1.0000, 1.0000, 1.0000, 1.0000,\n",
            "        1.0000, 1.0000, 1.0000, 1.0000, 1.0000, 1.0000, 1.0000, 1.0000, 1.0000,\n",
            "        1.0000, 1.0000, 1.0000, 1.0000, 1.0000, 1.0000, 1.0000, 1.0000, 1.0000,\n",
            "        1.0000, 1.0000, 1.0000, 1.0000, 1.0000, 1.0000, 1.0000, 1.0000, 1.0000,\n",
            "        1.0000, 1.0000, 1.0000, 1.0000, 1.0000, 1.0000, 1.0000, 1.0000, 1.0000,\n",
            "        1.0000, 1.0000, 1.0000, 1.0000, 1.0000, 1.0000, 1.0000, 1.0000, 1.0000,\n",
            "        1.0000, 1.0000, 1.0000, 1.0000, 1.0000, 1.0000, 1.0000, 1.0000, 1.0000,\n",
            "        1.0000])\n"
          ],
          "name": "stdout"
        }
      ]
    },
    {
      "cell_type": "markdown",
      "metadata": {
        "id": "QMBC2m9P481O",
        "colab_type": "text"
      },
      "source": [
        "MULTILAYERED NETWORK\n",
        "\n"
      ]
    },
    {
      "cell_type": "markdown",
      "metadata": {
        "id": "zbwEjekd25Ti",
        "colab_type": "text"
      },
      "source": [
        "We will be using ReLU() activation function"
      ]
    },
    {
      "cell_type": "code",
      "metadata": {
        "id": "JNKS67v1qzVe",
        "colab_type": "code",
        "colab": {}
      },
      "source": [
        "import torch\n",
        "from torch import nn\n",
        "import torch.nn.functional as F\n",
        "from torchvision import datasets,transforms"
      ],
      "execution_count": 0,
      "outputs": []
    },
    {
      "cell_type": "code",
      "metadata": {
        "id": "lBlyakY2qzZK",
        "colab_type": "code",
        "colab": {}
      },
      "source": [
        "transform=transforms.Compose([transforms.ToTensor()])\n",
        "trainset=datasets.MNIST('~/.pytorch/MNIST_data/',train=True,transform=transform,download=True)\n",
        "testset=datasets.MNIST('~/.pytorch/MNIST_data/',train=False,transform=transform,download=True)\n",
        "\n",
        "trainloader=torch.utils.data.DataLoader(trainset,batch_size=64,shuffle=True,num_workers=0)\n",
        "#will explain later\n",
        "testloader=torch.utils.data.DataLoader(testset,batch_size=64,shuffle=True,num_workers=0)"
      ],
      "execution_count": 0,
      "outputs": []
    },
    {
      "cell_type": "markdown",
      "metadata": {
        "id": "5AA18zQQUbxw",
        "colab_type": "text"
      },
      "source": [
        "Model-with 3 hidden layer"
      ]
    },
    {
      "cell_type": "code",
      "metadata": {
        "id": "W5mALZumqzbw",
        "colab_type": "code",
        "colab": {
          "base_uri": "https://localhost:8080/",
          "height": 208
        },
        "outputId": "0f3c18ce-e881-4fc1-ebdb-dfa521d9e9af"
      },
      "source": [
        "class Network(nn.Module):\n",
        "    def __init__(self):\n",
        "        super().__init__()\n",
        "        self.fc1 = nn.Linear(784, 256)\n",
        "        self.fc2 = nn.Linear(256, 128)\n",
        "        self.fc3 = nn.Linear(128, 64)\n",
        "        self.fc4 = nn.Linear(64, 10)\n",
        "\n",
        "        # Dropout module with 0.1 drop probability\n",
        "        self.dropout = nn.Dropout(p=0.1)\n",
        "\n",
        "    def forward(self, x):\n",
        "        # make sure input tensor is flattened\n",
        "        x = x.view(x.shape[0], -1)\n",
        "\n",
        "        # Now with dropout\n",
        "        x = self.dropout(F.relu(self.fc1(x)))\n",
        "        x = self.dropout(F.relu(self.fc2(x)))\n",
        "        x = self.dropout(F.relu(self.fc3(x)))\n",
        "\n",
        "        # output so no dropout here\n",
        "        x = F.log_softmax(self.fc4(x), dim=1)\n",
        "\n",
        "        return x\n",
        "        \n",
        "model=Network()\n",
        "optimizer=optim.SGD(model.parameters(),lr=0.05)\n",
        "criterion=nn.NLLLoss()\n",
        "epochs=10\n",
        "train_losses,test_losses=[],[]\n",
        "for e in range(epochs):\n",
        "    running_loss=0\n",
        "    for images,labels in trainloader:\n",
        "        optimizer.zero_grad()\n",
        "        #images=images.view(images.shape[0],-1)\n",
        "        log_ps=model(images)\n",
        "        loss=criterion(log_ps,labels) # a single value for ex 2.33\n",
        "        loss.backward()\n",
        "        optimizer.step()\n",
        "        running_loss += loss.item() * images.shape[0] ## (2.33*64 + 2.22*64 + 2.12*33) / 138 \n",
        "        \n",
        "    else:\n",
        "        test_loss=0\n",
        "        accuracy=0\n",
        "        \n",
        "        with torch.no_grad():\n",
        "            model.eval()\n",
        "            for images,labels in testloader:\n",
        "                log_ps=model(images)\n",
        "                test_loss+=criterion(log_ps,labels) *images.shape[0]\n",
        "                ps=torch.exp(log_ps)\n",
        "                top_p,top_class=ps.topk(1,dim=1)\n",
        "                equals=top_class==labels.view(*top_class.shape)\n",
        "                accuracy+=torch.sum(equals).item()\n",
        "        model.train()\n",
        "        train_losses.append(running_loss/len(trainloader.dataset))\n",
        "        test_losses.append(test_loss.item()/len(testloader.dataset))\n",
        "\n",
        "        print(\"Epoch: {}/{}.. \".format(e+1, epochs),\n",
        "              \"Training Loss: {:.3f}.. \".format(running_loss/len(trainloader.dataset)),\n",
        "              \"Test Loss: {:.3f}.. \".format(test_loss/len(testloader.dataset)),\n",
        "              \"Test Accuracy: {:.3f}\".format(accuracy/len(testloader.dataset)))  \n",
        "print(\"Total_parameters: {:.3f}.. \".format(sum(p.numel() for p in model.parameters())))  "
      ],
      "execution_count": 93,
      "outputs": [
        {
          "output_type": "stream",
          "text": [
            "Epoch: 1/10..  Training Loss: 1.049..  Test Loss: 0.319..  Test Accuracy: 0.908\n",
            "Epoch: 2/10..  Training Loss: 0.304..  Test Loss: 0.197..  Test Accuracy: 0.942\n",
            "Epoch: 3/10..  Training Loss: 0.198..  Test Loss: 0.165..  Test Accuracy: 0.949\n",
            "Epoch: 4/10..  Training Loss: 0.150..  Test Loss: 0.108..  Test Accuracy: 0.969\n",
            "Epoch: 5/10..  Training Loss: 0.121..  Test Loss: 0.094..  Test Accuracy: 0.971\n",
            "Epoch: 6/10..  Training Loss: 0.101..  Test Loss: 0.085..  Test Accuracy: 0.975\n",
            "Epoch: 7/10..  Training Loss: 0.088..  Test Loss: 0.082..  Test Accuracy: 0.975\n",
            "Epoch: 8/10..  Training Loss: 0.076..  Test Loss: 0.079..  Test Accuracy: 0.975\n",
            "Epoch: 9/10..  Training Loss: 0.068..  Test Loss: 0.078..  Test Accuracy: 0.976\n",
            "Epoch: 10/10..  Training Loss: 0.061..  Test Loss: 0.073..  Test Accuracy: 0.979\n",
            "Total_parameters: 242762.000.. \n"
          ],
          "name": "stdout"
        }
      ]
    },
    {
      "cell_type": "code",
      "metadata": {
        "id": "QBM7vGumcYH8",
        "colab_type": "code",
        "colab": {
          "base_uri": "https://localhost:8080/",
          "height": 208
        },
        "outputId": "b38f4730-69d4-4870-dd46-4acdc8fd76f0"
      },
      "source": [
        "class Network(nn.Module):\n",
        "    def __init__(self):\n",
        "        super().__init__()\n",
        "        self.fc1 = nn.Linear(784, 256)\n",
        "        self.fc2 = nn.Linear(256, 128)\n",
        "        self.fc3 = nn.Linear(128, 64)\n",
        "        self.fc4 = nn.Linear(64, 10)\n",
        "\n",
        "        # Dropout module with 0.2 drop probability\n",
        "        self.dropout = nn.Dropout(p=0.2)\n",
        "\n",
        "    def forward(self, x):\n",
        "        # make sure input tensor is flattened\n",
        "        x = x.view(x.shape[0], -1)\n",
        "\n",
        "        # Now with dropout\n",
        "        x = self.dropout(F.relu(self.fc1(x)))\n",
        "        x = self.dropout(F.relu(self.fc2(x)))\n",
        "        x = self.dropout(F.relu(self.fc3(x)))\n",
        "\n",
        "        # output so no dropout here\n",
        "        x = F.log_softmax(self.fc4(x), dim=1)\n",
        "\n",
        "        return x\n",
        "        \n",
        "model=Network()\n",
        "optimizer=optim.SGD(model.parameters(),lr=0.05)\n",
        "criterion=nn.NLLLoss()\n",
        "epochs=10\n",
        "train_losses,test_losses=[],[]\n",
        "for e in range(epochs):\n",
        "    running_loss=0\n",
        "    for images,labels in trainloader:\n",
        "        optimizer.zero_grad()\n",
        "        #images=images.view(images.shape[0],-1)\n",
        "        log_ps=model(images)\n",
        "        loss=criterion(log_ps,labels) # a single value for ex 2.33\n",
        "        loss.backward()\n",
        "        optimizer.step()\n",
        "        running_loss += loss.item() * images.shape[0] ## (2.33*64 + 2.22*64 + 2.12*33) / 138 \n",
        "        \n",
        "    else:\n",
        "        test_loss=0\n",
        "        accuracy=0\n",
        "        \n",
        "        with torch.no_grad():\n",
        "            model.eval()\n",
        "            for images,labels in testloader:\n",
        "                log_ps=model(images)\n",
        "                test_loss+=criterion(log_ps,labels) *images.shape[0]\n",
        "                ps=torch.exp(log_ps)\n",
        "                top_p,top_class=ps.topk(1,dim=1)\n",
        "                equals=top_class==labels.view(*top_class.shape)\n",
        "                accuracy+=torch.sum(equals).item()\n",
        "        model.train()\n",
        "        train_losses.append(running_loss/len(trainloader.dataset))\n",
        "        test_losses.append(test_loss.item()/len(testloader.dataset))\n",
        "\n",
        "        print(\"Epoch: {}/{}.. \".format(e+1, epochs),\n",
        "              \"Training Loss: {:.3f}.. \".format(running_loss/len(trainloader.dataset)),\n",
        "              \"Test Loss: {:.3f}.. \".format(test_loss/len(testloader.dataset)),\n",
        "              \"Test Accuracy: {:.3f}\".format(accuracy/len(testloader.dataset)))  \n",
        "print(\"Total_parameters: {:.3f}.. \".format(sum(p.numel() for p in model.parameters())))  "
      ],
      "execution_count": 94,
      "outputs": [
        {
          "output_type": "stream",
          "text": [
            "Epoch: 1/10..  Training Loss: 1.080..  Test Loss: 0.325..  Test Accuracy: 0.904\n",
            "Epoch: 2/10..  Training Loss: 0.340..  Test Loss: 0.201..  Test Accuracy: 0.940\n",
            "Epoch: 3/10..  Training Loss: 0.233..  Test Loss: 0.147..  Test Accuracy: 0.956\n",
            "Epoch: 4/10..  Training Loss: 0.181..  Test Loss: 0.124..  Test Accuracy: 0.963\n",
            "Epoch: 5/10..  Training Loss: 0.151..  Test Loss: 0.107..  Test Accuracy: 0.967\n",
            "Epoch: 6/10..  Training Loss: 0.129..  Test Loss: 0.100..  Test Accuracy: 0.970\n",
            "Epoch: 7/10..  Training Loss: 0.114..  Test Loss: 0.086..  Test Accuracy: 0.973\n",
            "Epoch: 8/10..  Training Loss: 0.101..  Test Loss: 0.079..  Test Accuracy: 0.976\n",
            "Epoch: 9/10..  Training Loss: 0.092..  Test Loss: 0.077..  Test Accuracy: 0.977\n",
            "Epoch: 10/10..  Training Loss: 0.083..  Test Loss: 0.085..  Test Accuracy: 0.974\n",
            "Total_parameters: 242762.000.. \n"
          ],
          "name": "stdout"
        }
      ]
    },
    {
      "cell_type": "markdown",
      "metadata": {
        "id": "GMd-7LAqTizy",
        "colab_type": "text"
      },
      "source": [
        "Model_2 with 2 hidden layers"
      ]
    },
    {
      "cell_type": "code",
      "metadata": {
        "id": "qykTuCyDSdEe",
        "colab_type": "code",
        "colab": {
          "base_uri": "https://localhost:8080/",
          "height": 208
        },
        "outputId": "6f807ddc-42e3-44e4-8f7a-8922488ffb9e"
      },
      "source": [
        "transform=transforms.Compose([transforms.ToTensor()])\n",
        "trainset=datasets.MNIST('~/.pytorch/MNIST_data/',train=True,transform=transform,download=True)\n",
        "testset=datasets.MNIST('~/.pytorch/MNIST_data/',train=False,transform=transform,download=True)\n",
        "\n",
        "trainloader=torch.utils.data.DataLoader(trainset,batch_size=64,shuffle=True,num_workers=0)\n",
        "#will explain later\n",
        "testloader=torch.utils.data.DataLoader(testset,batch_size=64,shuffle=True,num_workers=0)\n",
        "class Network(nn.Module):\n",
        "    def __init__(self):\n",
        "        super().__init__()\n",
        "        self.fc1 = nn.Linear(784, 256)\n",
        "        self.fc2 = nn.Linear(256, 128)\n",
        "        self.fc3 = nn.Linear(128, 10)\n",
        "        #self.fc4 = nn.Linear(64, 10)\n",
        "\n",
        "        # Dropout module with 0.1 drop probability\n",
        "        self.dropout = nn.Dropout(p=0.1)\n",
        "\n",
        "    def forward(self, x):\n",
        "        # make sure input tensor is flattened\n",
        "        x = x.view(x.shape[0], -1)\n",
        "\n",
        "        # Now with dropout\n",
        "        x = self.dropout(F.relu(self.fc1(x)))\n",
        "        x = self.dropout(F.relu(self.fc2(x)))\n",
        "        #x = self.dropout(F.relu(self.fc3(x)))\n",
        "\n",
        "        # output so no dropout here\n",
        "        x = F.log_softmax(self.fc3(x), dim=1)\n",
        "\n",
        "        return x\n",
        "        \n",
        "model_2=Network()\n",
        "optimizer=optim.SGD(model_2.parameters(),lr=0.05)\n",
        "criterion=nn.NLLLoss()\n",
        "epochs=10\n",
        "train_losses,test_losses=[],[]\n",
        "for e in range(epochs):\n",
        "    running_loss=0\n",
        "    for images,labels in trainloader:\n",
        "        optimizer.zero_grad()\n",
        "        #images=images.view(images.shape[0],-1)\n",
        "        log_ps=model_2(images)\n",
        "        loss=criterion(log_ps,labels) # a single value for ex 2.33\n",
        "        loss.backward()\n",
        "        optimizer.step()\n",
        "        running_loss += loss.item() * images.shape[0] ## (2.33*64 + 2.22*64 + 2.12*33) / 138 \n",
        "        \n",
        "    else:\n",
        "        test_loss=0\n",
        "        accuracy=0\n",
        "        \n",
        "        with torch.no_grad():\n",
        "            model_2.eval()\n",
        "            for images,labels in testloader:\n",
        "                log_ps=model_2(images)\n",
        "                test_loss+=criterion(log_ps,labels) *images.shape[0]\n",
        "                ps=torch.exp(log_ps)\n",
        "                top_p,top_class=ps.topk(1,dim=1)\n",
        "                equals=top_class==labels.view(*top_class.shape)\n",
        "                accuracy+=torch.sum(equals).item()\n",
        "        model_2.train()\n",
        "        train_losses.append(running_loss/len(trainloader.dataset))\n",
        "        test_losses.append(test_loss.item()/len(testloader.dataset))\n",
        "\n",
        "        print(\"Epoch: {}/{}.. \".format(e+1, epochs),\n",
        "              \"Training Loss: {:.3f}.. \".format(running_loss/len(trainloader.dataset)),\n",
        "              \"Test Loss: {:.3f}.. \".format(test_loss/len(testloader.dataset)),\n",
        "              \"Test Accuracy: {:.3f}\".format(accuracy/len(testloader.dataset))) \n",
        "        #print(\"Our model: \\n\\n\", model_2, '\\n'),\n",
        "print(\"Total_parameters: {:.3f}.. \".format(sum(p.numel() for p in model_2.parameters())))\n",
        "        #pytorch_total_params = sum(p.numel() for p in model.parameters())\n",
        "        #pytorch_total_params   "
      ],
      "execution_count": 105,
      "outputs": [
        {
          "output_type": "stream",
          "text": [
            "Epoch: 1/10..  Training Loss: 0.709..  Test Loss: 0.315..  Test Accuracy: 0.905\n",
            "Epoch: 2/10..  Training Loss: 0.285..  Test Loss: 0.209..  Test Accuracy: 0.937\n",
            "Epoch: 3/10..  Training Loss: 0.208..  Test Loss: 0.154..  Test Accuracy: 0.955\n",
            "Epoch: 4/10..  Training Loss: 0.163..  Test Loss: 0.129..  Test Accuracy: 0.961\n",
            "Epoch: 5/10..  Training Loss: 0.134..  Test Loss: 0.126..  Test Accuracy: 0.960\n",
            "Epoch: 6/10..  Training Loss: 0.115..  Test Loss: 0.092..  Test Accuracy: 0.971\n",
            "Epoch: 7/10..  Training Loss: 0.100..  Test Loss: 0.086..  Test Accuracy: 0.974\n",
            "Epoch: 8/10..  Training Loss: 0.088..  Test Loss: 0.080..  Test Accuracy: 0.977\n",
            "Epoch: 9/10..  Training Loss: 0.079..  Test Loss: 0.071..  Test Accuracy: 0.977\n",
            "Epoch: 10/10..  Training Loss: 0.071..  Test Loss: 0.071..  Test Accuracy: 0.977\n",
            "Total_parameters: 235146.000.. \n"
          ],
          "name": "stdout"
        }
      ]
    },
    {
      "cell_type": "code",
      "metadata": {
        "id": "Z81_wHlUc3Fh",
        "colab_type": "code",
        "colab": {
          "base_uri": "https://localhost:8080/",
          "height": 208
        },
        "outputId": "a3202192-b46f-47be-a87d-79aeb0b6d0d0"
      },
      "source": [
        "transform=transforms.Compose([transforms.ToTensor()])\n",
        "trainset=datasets.MNIST('~/.pytorch/MNIST_data/',train=True,transform=transform,download=True)\n",
        "testset=datasets.MNIST('~/.pytorch/MNIST_data/',train=False,transform=transform,download=True)\n",
        "\n",
        "trainloader=torch.utils.data.DataLoader(trainset,batch_size=64,shuffle=True,num_workers=0)\n",
        "#will explain later\n",
        "testloader=torch.utils.data.DataLoader(testset,batch_size=64,shuffle=True,num_workers=0)\n",
        "class Network(nn.Module):\n",
        "    def __init__(self):\n",
        "        super().__init__()\n",
        "        self.fc1 = nn.Linear(784, 256)\n",
        "        self.fc2 = nn.Linear(256, 128)\n",
        "        self.fc3 = nn.Linear(128, 10)\n",
        "        #self.fc4 = nn.Linear(64, 10)\n",
        "\n",
        "        # Dropout module with 0.2 drop probability\n",
        "        self.dropout = nn.Dropout(p=0.2)\n",
        "\n",
        "    def forward(self, x):\n",
        "        # make sure input tensor is flattened\n",
        "        x = x.view(x.shape[0], -1)\n",
        "\n",
        "        # Now with dropout\n",
        "        x = self.dropout(F.relu(self.fc1(x)))\n",
        "        x = self.dropout(F.relu(self.fc2(x)))\n",
        "        #x = self.dropout(F.relu(self.fc3(x)))\n",
        "\n",
        "        # output so no dropout here\n",
        "        x = F.log_softmax(self.fc3(x), dim=1)\n",
        "\n",
        "        return x\n",
        "        \n",
        "model_2=Network()\n",
        "optimizer=optim.SGD(model_2.parameters(),lr=0.05)\n",
        "criterion=nn.NLLLoss()\n",
        "epochs=10\n",
        "train_losses,test_losses=[],[]\n",
        "for e in range(epochs):\n",
        "    running_loss=0\n",
        "    for images,labels in trainloader:\n",
        "        optimizer.zero_grad()\n",
        "        #images=images.view(images.shape[0],-1)\n",
        "        log_ps=model_2(images)\n",
        "        loss=criterion(log_ps,labels) # a single value for ex 2.33\n",
        "        loss.backward()\n",
        "        optimizer.step()\n",
        "        running_loss += loss.item() * images.shape[0] ## (2.33*64 + 2.22*64 + 2.12*33) / 138 \n",
        "        \n",
        "    else:\n",
        "        test_loss=0\n",
        "        accuracy=0\n",
        "        \n",
        "        with torch.no_grad():\n",
        "            model_2.eval()\n",
        "            for images,labels in testloader:\n",
        "                log_ps=model_2(images)\n",
        "                test_loss+=criterion(log_ps,labels) *images.shape[0]\n",
        "                ps=torch.exp(log_ps)\n",
        "                top_p,top_class=ps.topk(1,dim=1)\n",
        "                equals=top_class==labels.view(*top_class.shape)\n",
        "                accuracy+=torch.sum(equals).item()\n",
        "        model_2.train()\n",
        "        train_losses.append(running_loss/len(trainloader.dataset))\n",
        "        test_losses.append(test_loss.item()/len(testloader.dataset))\n",
        "\n",
        "        print(\"Epoch: {}/{}.. \".format(e+1, epochs),\n",
        "              \"Training Loss: {:.3f}.. \".format(running_loss/len(trainloader.dataset)),\n",
        "              \"Test Loss: {:.3f}.. \".format(test_loss/len(testloader.dataset)),\n",
        "              \"Test Accuracy: {:.3f}\".format(accuracy/len(testloader.dataset))) \n",
        "        #print(\"Our model: \\n\\n\", model_2, '\\n'),\n",
        "print(\"Total_parameters: {:.3f}.. \".format(sum(p.numel() for p in model_2.parameters())))\n",
        "        #pytorch_total_params = sum(p.numel() for p in model.parameters())\n",
        "        #pytorch_total_params   "
      ],
      "execution_count": 106,
      "outputs": [
        {
          "output_type": "stream",
          "text": [
            "Epoch: 1/10..  Training Loss: 0.743..  Test Loss: 0.290..  Test Accuracy: 0.917\n",
            "Epoch: 2/10..  Training Loss: 0.297..  Test Loss: 0.210..  Test Accuracy: 0.939\n",
            "Epoch: 3/10..  Training Loss: 0.217..  Test Loss: 0.156..  Test Accuracy: 0.954\n",
            "Epoch: 4/10..  Training Loss: 0.174..  Test Loss: 0.130..  Test Accuracy: 0.961\n",
            "Epoch: 5/10..  Training Loss: 0.148..  Test Loss: 0.111..  Test Accuracy: 0.965\n",
            "Epoch: 6/10..  Training Loss: 0.126..  Test Loss: 0.097..  Test Accuracy: 0.970\n",
            "Epoch: 7/10..  Training Loss: 0.113..  Test Loss: 0.092..  Test Accuracy: 0.971\n",
            "Epoch: 8/10..  Training Loss: 0.101..  Test Loss: 0.084..  Test Accuracy: 0.973\n",
            "Epoch: 9/10..  Training Loss: 0.091..  Test Loss: 0.079..  Test Accuracy: 0.974\n",
            "Epoch: 10/10..  Training Loss: 0.084..  Test Loss: 0.077..  Test Accuracy: 0.977\n",
            "Total_parameters: 235146.000.. \n"
          ],
          "name": "stdout"
        }
      ]
    },
    {
      "cell_type": "markdown",
      "metadata": {
        "id": "RJGhBko8TYW1",
        "colab_type": "text"
      },
      "source": [
        "Model_1 with 1 hidden layer"
      ]
    },
    {
      "cell_type": "code",
      "metadata": {
        "id": "vBZtSPfLSdH_",
        "colab_type": "code",
        "colab": {
          "base_uri": "https://localhost:8080/",
          "height": 208
        },
        "outputId": "9d08f64b-ad43-42ea-ad1b-7e0298a72b1c"
      },
      "source": [
        "transform=transforms.Compose([transforms.ToTensor()])\n",
        "trainset=datasets.MNIST('~/.pytorch/MNIST_data/',train=True,transform=transform,download=True)\n",
        "testset=datasets.MNIST('~/.pytorch/MNIST_data/',train=False,transform=transform,download=True)\n",
        "\n",
        "trainloader=torch.utils.data.DataLoader(trainset,batch_size=64,shuffle=True,num_workers=0)\n",
        "#will explain later\n",
        "testloader=torch.utils.data.DataLoader(testset,batch_size=64,shuffle=True,num_workers=0)\n",
        "class Network(nn.Module):\n",
        "    def __init__(self):\n",
        "        super().__init__()\n",
        "        self.fc1 = nn.Linear(784, 256)\n",
        "        self.fc2 = nn.Linear(256, 10)\n",
        "        #self.fc3 = nn.Linear(128, 10)\n",
        "        #self.fc4 = nn.Linear(64, 10)\n",
        "\n",
        "        # Dropout module with 0.1 drop probability\n",
        "        self.dropout = nn.Dropout(p=0.1)\n",
        "\n",
        "    def forward(self, x):\n",
        "        # make sure input tensor is flattened\n",
        "        x = x.view(x.shape[0], -1)\n",
        "\n",
        "        # Now with dropout\n",
        "        x = self.dropout(F.relu(self.fc1(x)))\n",
        "        #x = self.dropout(F.relu(self.fc2(x)))\n",
        "        #x = self.dropout(F.relu(self.fc3(x)))\n",
        "\n",
        "        # output so no dropout here\n",
        "        x = F.log_softmax(self.fc2(x), dim=1)\n",
        "\n",
        "        return x\n",
        "        \n",
        "model_1=Network()\n",
        "optimizer=optim.SGD(model_1.parameters(),lr=0.05)\n",
        "criterion=nn.NLLLoss()\n",
        "epochs=10\n",
        "train_losses,test_losses=[],[]\n",
        "for e in range(epochs):\n",
        "    running_loss=0\n",
        "    for images,labels in trainloader:\n",
        "        optimizer.zero_grad()\n",
        "        #images=images.view(images.shape[0],-1)\n",
        "        log_ps=model_1(images)\n",
        "        loss=criterion(log_ps,labels) # a single value for ex 2.33\n",
        "        loss.backward()\n",
        "        optimizer.step()\n",
        "        running_loss += loss.item() * images.shape[0] ## (2.33*64 + 2.22*64 + 2.12*33) / 138 \n",
        "        \n",
        "    else:\n",
        "        test_loss=0\n",
        "        accuracy=0\n",
        "        \n",
        "        with torch.no_grad():\n",
        "            model_1.eval()\n",
        "            for images,labels in testloader:\n",
        "                log_ps=model_1(images)\n",
        "                test_loss+=criterion(log_ps,labels) *images.shape[0]\n",
        "                ps=torch.exp(log_ps)\n",
        "                top_p,top_class=ps.topk(1,dim=1)\n",
        "                equals=top_class==labels.view(*top_class.shape)\n",
        "                accuracy+=torch.sum(equals).item()\n",
        "        model_1.train()\n",
        "        train_losses.append(running_loss/len(trainloader.dataset))\n",
        "        test_losses.append(test_loss.item()/len(testloader.dataset))\n",
        "\n",
        "        print(\"Epoch: {}/{}.. \".format(e+1, epochs),\n",
        "              \"Training Loss: {:.3f}.. \".format(running_loss/len(trainloader.dataset)),\n",
        "              \"Test Loss: {:.3f}.. \".format(test_loss/len(testloader.dataset)),\n",
        "              \"Test Accuracy: {:.3f}\".format(accuracy/len(testloader.dataset)))   \n",
        "print(\"Total_parameters: {:.3f}.. \".format(sum(p.numel() for p in model_1.parameters()))) "
      ],
      "execution_count": 157,
      "outputs": [
        {
          "output_type": "stream",
          "text": [
            "Epoch: 1/10..  Training Loss: 0.577..  Test Loss: 0.307..  Test Accuracy: 0.912\n",
            "Epoch: 2/10..  Training Loss: 0.295..  Test Loss: 0.240..  Test Accuracy: 0.933\n",
            "Epoch: 3/10..  Training Loss: 0.237..  Test Loss: 0.202..  Test Accuracy: 0.942\n",
            "Epoch: 4/10..  Training Loss: 0.199..  Test Loss: 0.174..  Test Accuracy: 0.951\n",
            "Epoch: 5/10..  Training Loss: 0.172..  Test Loss: 0.148..  Test Accuracy: 0.957\n",
            "Epoch: 6/10..  Training Loss: 0.151..  Test Loss: 0.134..  Test Accuracy: 0.962\n",
            "Epoch: 7/10..  Training Loss: 0.135..  Test Loss: 0.125..  Test Accuracy: 0.964\n",
            "Epoch: 8/10..  Training Loss: 0.123..  Test Loss: 0.113..  Test Accuracy: 0.968\n",
            "Epoch: 9/10..  Training Loss: 0.112..  Test Loss: 0.108..  Test Accuracy: 0.968\n",
            "Epoch: 10/10..  Training Loss: 0.103..  Test Loss: 0.101..  Test Accuracy: 0.971\n",
            "Total_parameters: 203530.000.. \n"
          ],
          "name": "stdout"
        }
      ]
    },
    {
      "cell_type": "code",
      "metadata": {
        "id": "XqucJyy9khSP",
        "colab_type": "code",
        "colab": {
          "base_uri": "https://localhost:8080/",
          "height": 208
        },
        "outputId": "02754a97-5215-4d65-957e-41a2bb609be7"
      },
      "source": [
        "transform=transforms.Compose([transforms.ToTensor()])\n",
        "trainset=datasets.MNIST('~/.pytorch/MNIST_data/',train=True,transform=transform,download=True)\n",
        "testset=datasets.MNIST('~/.pytorch/MNIST_data/',train=False,transform=transform,download=True)\n",
        "\n",
        "trainloader=torch.utils.data.DataLoader(trainset,batch_size=64,shuffle=True,num_workers=0)\n",
        "#will explain later\n",
        "testloader=torch.utils.data.DataLoader(testset,batch_size=64,shuffle=True,num_workers=0)\n",
        "class Network(nn.Module):\n",
        "    def __init__(self):\n",
        "        super().__init__()\n",
        "        self.fc1 = nn.Linear(784, 256)\n",
        "        self.fc2 = nn.Linear(256, 10)\n",
        "        #self.fc3 = nn.Linear(128, 10)\n",
        "        #self.fc4 = nn.Linear(64, 10)\n",
        "\n",
        "        # Dropout module with 0.2 drop probability\n",
        "        self.dropout = nn.Dropout(p=0.2)\n",
        "\n",
        "    def forward(self, x):\n",
        "        # make sure input tensor is flattened\n",
        "        x = x.view(x.shape[0], -1)\n",
        "\n",
        "        # Now with dropout\n",
        "        x = self.dropout(F.relu(self.fc1(x)))\n",
        "        #x = self.dropout(F.relu(self.fc2(x)))\n",
        "        #x = self.dropout(F.relu(self.fc3(x)))\n",
        "\n",
        "        # output so no dropout here\n",
        "        x = F.log_softmax(self.fc2(x), dim=1)\n",
        "\n",
        "        return x\n",
        "        \n",
        "model_1=Network()\n",
        "optimizer=optim.SGD(model_1.parameters(),lr=0.05)\n",
        "criterion=nn.NLLLoss()\n",
        "epochs=10\n",
        "train_losses,test_losses=[],[]\n",
        "for e in range(epochs):\n",
        "    running_loss=0\n",
        "    for images,labels in trainloader:\n",
        "        optimizer.zero_grad()\n",
        "        #images=images.view(images.shape[0],-1)\n",
        "        log_ps=model_1(images)\n",
        "        loss=criterion(log_ps,labels) # a single value for ex 2.33\n",
        "        loss.backward()\n",
        "        optimizer.step()\n",
        "        running_loss += loss.item() * images.shape[0] ## (2.33*64 + 2.22*64 + 2.12*33) / 138 \n",
        "        \n",
        "    else:\n",
        "        test_loss=0\n",
        "        accuracy=0\n",
        "        \n",
        "        with torch.no_grad():\n",
        "            model_1.eval()\n",
        "            for images,labels in testloader:\n",
        "                log_ps=model_1(images)\n",
        "                test_loss+=criterion(log_ps,labels) *images.shape[0]\n",
        "                ps=torch.exp(log_ps)\n",
        "                top_p,top_class=ps.topk(1,dim=1)\n",
        "                equals=top_class==labels.view(*top_class.shape)\n",
        "                accuracy+=torch.sum(equals).item()\n",
        "        model_1.train()\n",
        "        train_losses.append(running_loss/len(trainloader.dataset))\n",
        "        test_losses.append(test_loss.item()/len(testloader.dataset))\n",
        "\n",
        "        print(\"Epoch: {}/{}.. \".format(e+1, epochs),\n",
        "              \"Training Loss: {:.3f}.. \".format(running_loss/len(trainloader.dataset)),\n",
        "              \"Test Loss: {:.3f}.. \".format(test_loss/len(testloader.dataset)),\n",
        "              \"Test Accuracy: {:.3f}\".format(accuracy/len(testloader.dataset)))   \n",
        "print(\"Total_parameters: {:.3f}.. \".format(sum(p.numel() for p in model_1.parameters()))) "
      ],
      "execution_count": 155,
      "outputs": [
        {
          "output_type": "stream",
          "text": [
            "Epoch: 1/10..  Training Loss: 0.596..  Test Loss: 0.301..  Test Accuracy: 0.917\n",
            "Epoch: 2/10..  Training Loss: 0.300..  Test Loss: 0.240..  Test Accuracy: 0.931\n",
            "Epoch: 3/10..  Training Loss: 0.240..  Test Loss: 0.197..  Test Accuracy: 0.944\n",
            "Epoch: 4/10..  Training Loss: 0.202..  Test Loss: 0.167..  Test Accuracy: 0.952\n",
            "Epoch: 5/10..  Training Loss: 0.175..  Test Loss: 0.149..  Test Accuracy: 0.957\n",
            "Epoch: 6/10..  Training Loss: 0.155..  Test Loss: 0.132..  Test Accuracy: 0.962\n",
            "Epoch: 7/10..  Training Loss: 0.141..  Test Loss: 0.122..  Test Accuracy: 0.964\n",
            "Epoch: 8/10..  Training Loss: 0.129..  Test Loss: 0.111..  Test Accuracy: 0.967\n",
            "Epoch: 9/10..  Training Loss: 0.118..  Test Loss: 0.107..  Test Accuracy: 0.967\n",
            "Epoch: 10/10..  Training Loss: 0.109..  Test Loss: 0.100..  Test Accuracy: 0.971\n",
            "Total_parameters: 203530.000.. \n"
          ],
          "name": "stdout"
        }
      ]
    },
    {
      "cell_type": "markdown",
      "metadata": {
        "id": "1tg5sNWUvrQu",
        "colab_type": "text"
      },
      "source": [
        "New Model"
      ]
    },
    {
      "cell_type": "code",
      "metadata": {
        "id": "fK8BiTDwvpyq",
        "colab_type": "code",
        "colab": {
          "base_uri": "https://localhost:8080/",
          "height": 208
        },
        "outputId": "68eff5c6-a92c-4174-f7ec-9e66d2f7e74d"
      },
      "source": [
        "transform=transforms.Compose([transforms.ToTensor()])\n",
        "trainset=datasets.MNIST('~/.pytorch/MNIST_data/',train=True,transform=transform,download=True)\n",
        "testset=datasets.MNIST('~/.pytorch/MNIST_data/',train=False,transform=transform,download=True)\n",
        "\n",
        "trainloader=torch.utils.data.DataLoader(trainset,batch_size=64,shuffle=True,num_workers=0)\n",
        "#will explain later\n",
        "testloader=torch.utils.data.DataLoader(testset,batch_size=64,shuffle=True,num_workers=0)\n",
        "class Network(nn.Module):\n",
        "    def __init__(self):\n",
        "        super().__init__()\n",
        "        self.fc1 = nn.Linear(784, 300)\n",
        "        self.fc2 = nn.Linear(300, 150)\n",
        "        self.fc3 = nn.Linear(150, 75)\n",
        "        self.fc4 = nn.Linear(75, 10)\n",
        "\n",
        "        # Dropout module with 0.1 drop probability\n",
        "        self.dropout = nn.Dropout(p=0.1)\n",
        "\n",
        "    def forward(self, x):\n",
        "        # make sure input tensor is flattened\n",
        "        x = x.view(x.shape[0], -1)\n",
        "\n",
        "        # Now with dropout\n",
        "        x = self.dropout(F.relu(self.fc1(x)))\n",
        "        x = self.dropout(F.relu(self.fc2(x)))\n",
        "        x = self.dropout(F.relu(self.fc3(x)))\n",
        "\n",
        "        # output so no dropout here\n",
        "        x = F.log_softmax(self.fc4(x), dim=1)\n",
        "\n",
        "        return x\n",
        "        \n",
        "model_3=Network()\n",
        "optimizer=optim.SGD(model_3.parameters(),lr=0.1)\n",
        "criterion=nn.NLLLoss()\n",
        "epochs=10\n",
        "train_losses,test_losses=[],[]\n",
        "for e in range(epochs):\n",
        "    running_loss=0\n",
        "    for images,labels in trainloader:\n",
        "        optimizer.zero_grad()\n",
        "        #images=images.view(images.shape[0],-1)\n",
        "        log_ps=model_3(images)\n",
        "        loss=criterion(log_ps,labels) # a single value for ex 2.33\n",
        "        loss.backward()\n",
        "        optimizer.step()\n",
        "        running_loss += loss.item() * images.shape[0] ## (2.33*64 + 2.22*64 + 2.12*33) / 138 \n",
        "        \n",
        "    else:\n",
        "        test_loss=0\n",
        "        accuracy=0\n",
        "        \n",
        "        with torch.no_grad():\n",
        "            model_3.eval()\n",
        "            for images,labels in testloader:\n",
        "                log_ps=model_3(images)\n",
        "                test_loss+=criterion(log_ps,labels) *images.shape[0]\n",
        "                ps=torch.exp(log_ps)\n",
        "                top_p,top_class=ps.topk(1,dim=1)\n",
        "                equals=top_class==labels.view(*top_class.shape)\n",
        "                accuracy+=torch.sum(equals).item()\n",
        "        model_3.train()\n",
        "        train_losses.append(running_loss/len(trainloader.dataset))\n",
        "        test_losses.append(test_loss.item()/len(testloader.dataset))\n",
        "\n",
        "        print(\"Epoch: {}/{}.. \".format(e+1, epochs),\n",
        "              \"Training Loss: {:.3f}.. \".format(running_loss/len(trainloader.dataset)),\n",
        "              \"Test Loss: {:.3f}.. \".format(test_loss/len(testloader.dataset)),\n",
        "              \"Test Accuracy: {:.3f}\".format(accuracy/len(testloader.dataset)))   \n",
        "print(\"Total_parameters: {:.3f}.. \".format(sum(p.numel() for p in model_3.parameters()))) "
      ],
      "execution_count": 156,
      "outputs": [
        {
          "output_type": "stream",
          "text": [
            "Epoch: 1/10..  Training Loss: 0.679..  Test Loss: 0.225..  Test Accuracy: 0.929\n",
            "Epoch: 2/10..  Training Loss: 0.186..  Test Loss: 0.126..  Test Accuracy: 0.961\n",
            "Epoch: 3/10..  Training Loss: 0.128..  Test Loss: 0.093..  Test Accuracy: 0.971\n",
            "Epoch: 4/10..  Training Loss: 0.100..  Test Loss: 0.086..  Test Accuracy: 0.973\n",
            "Epoch: 5/10..  Training Loss: 0.083..  Test Loss: 0.074..  Test Accuracy: 0.977\n",
            "Epoch: 6/10..  Training Loss: 0.068..  Test Loss: 0.070..  Test Accuracy: 0.979\n",
            "Epoch: 7/10..  Training Loss: 0.058..  Test Loss: 0.068..  Test Accuracy: 0.979\n",
            "Epoch: 8/10..  Training Loss: 0.050..  Test Loss: 0.063..  Test Accuracy: 0.981\n",
            "Epoch: 9/10..  Training Loss: 0.045..  Test Loss: 0.068..  Test Accuracy: 0.981\n",
            "Epoch: 10/10..  Training Loss: 0.040..  Test Loss: 0.079..  Test Accuracy: 0.976\n",
            "Total_parameters: 292735.000.. \n"
          ],
          "name": "stdout"
        }
      ]
    },
    {
      "cell_type": "markdown",
      "metadata": {
        "id": "uEq1bjpU4VyS",
        "colab_type": "text"
      },
      "source": [
        "model_4"
      ]
    },
    {
      "cell_type": "code",
      "metadata": {
        "id": "DnJTV7Pj4UM0",
        "colab_type": "code",
        "colab": {
          "base_uri": "https://localhost:8080/",
          "height": 208
        },
        "outputId": "23869dbd-97ca-4eb9-d9f1-245e0638f739"
      },
      "source": [
        "transform=transforms.Compose([transforms.ToTensor()])\n",
        "trainset=datasets.MNIST('~/.pytorch/MNIST_data/',train=True,transform=transform,download=True)\n",
        "testset=datasets.MNIST('~/.pytorch/MNIST_data/',train=False,transform=transform,download=True)\n",
        "\n",
        "trainloader=torch.utils.data.DataLoader(trainset,batch_size=64,shuffle=True,num_workers=0)\n",
        "#will explain later\n",
        "testloader=torch.utils.data.DataLoader(testset,batch_size=64,shuffle=True,num_workers=0)\n",
        "class Network(nn.Module):\n",
        "    def __init__(self):\n",
        "        super().__init__()\n",
        "        self.fc1 = nn.Linear(784, 300)\n",
        "        self.fc2 = nn.Linear(300, 150)\n",
        "        self.fc3 = nn.Linear(150, 10)\n",
        "        #self.fc4 = nn.Linear(75, 10)\n",
        "\n",
        "        # Dropout module with 0.2 drop probability\n",
        "        self.dropout = nn.Dropout(p=0.2)\n",
        "\n",
        "    def forward(self, x):\n",
        "        # make sure input tensor is flattened\n",
        "        x = x.view(x.shape[0], -1)\n",
        "\n",
        "        # Now with dropout\n",
        "        x = self.dropout(F.relu(self.fc1(x)))\n",
        "        x = self.dropout(F.relu(self.fc2(x)))\n",
        "        #x = self.dropout(F.relu(self.fc3(x)))\n",
        "\n",
        "        # output so no dropout here\n",
        "        x = F.log_softmax(self.fc3(x), dim=1)\n",
        "\n",
        "        return x\n",
        "        \n",
        "model_4=Network()\n",
        "optimizer=optim.SGD(model_4.parameters(),lr=0.6)\n",
        "criterion=nn.NLLLoss()\n",
        "epochs=10\n",
        "train_losses,test_losses=[],[]\n",
        "for e in range(epochs):\n",
        "    running_loss=0\n",
        "    for images,labels in trainloader:\n",
        "        optimizer.zero_grad()\n",
        "        #images=images.view(images.shape[0],-1)\n",
        "        log_ps=model_4(images)\n",
        "        loss=criterion(log_ps,labels) # a single value for ex 2.33\n",
        "        loss.backward()\n",
        "        optimizer.step()\n",
        "        running_loss += loss.item() * images.shape[0] ## (2.33*64 + 2.22*64 + 2.12*33) / 138 \n",
        "        \n",
        "    else:\n",
        "        test_loss=0\n",
        "        accuracy=0\n",
        "        \n",
        "        with torch.no_grad():\n",
        "            model_4.eval()\n",
        "            for images,labels in testloader:\n",
        "                log_ps=model_4(images)\n",
        "                test_loss+=criterion(log_ps,labels) *images.shape[0]\n",
        "                ps=torch.exp(log_ps)\n",
        "                top_p,top_class=ps.topk(1,dim=1)\n",
        "                equals=top_class==labels.view(*top_class.shape)\n",
        "                accuracy+=torch.sum(equals).item()\n",
        "        model_4.train()\n",
        "        train_losses.append(running_loss/len(trainloader.dataset))\n",
        "        test_losses.append(test_loss.item()/len(testloader.dataset))\n",
        "\n",
        "        print(\"Epoch: {}/{}.. \".format(e+1, epochs),\n",
        "              \"Training Loss: {:.3f}.. \".format(running_loss/len(trainloader.dataset)),\n",
        "              \"Test Loss: {:.3f}.. \".format(test_loss/len(testloader.dataset)),\n",
        "              \"Test Accuracy: {:.3f}\".format(accuracy/len(testloader.dataset)))   \n",
        "print(\"Total_parameters: {:.3f}.. \".format(sum(p.numel() for p in model_4.parameters()))) "
      ],
      "execution_count": 160,
      "outputs": [
        {
          "output_type": "stream",
          "text": [
            "Epoch: 1/10..  Training Loss: 0.354..  Test Loss: 0.151..  Test Accuracy: 0.952\n",
            "Epoch: 2/10..  Training Loss: 0.143..  Test Loss: 0.109..  Test Accuracy: 0.967\n",
            "Epoch: 3/10..  Training Loss: 0.109..  Test Loss: 0.088..  Test Accuracy: 0.973\n",
            "Epoch: 4/10..  Training Loss: 0.092..  Test Loss: 0.093..  Test Accuracy: 0.971\n",
            "Epoch: 5/10..  Training Loss: 0.079..  Test Loss: 0.116..  Test Accuracy: 0.965\n",
            "Epoch: 6/10..  Training Loss: 0.071..  Test Loss: 0.072..  Test Accuracy: 0.977\n",
            "Epoch: 7/10..  Training Loss: 0.063..  Test Loss: 0.083..  Test Accuracy: 0.975\n",
            "Epoch: 8/10..  Training Loss: 0.057..  Test Loss: 0.092..  Test Accuracy: 0.973\n",
            "Epoch: 9/10..  Training Loss: 0.053..  Test Loss: 0.066..  Test Accuracy: 0.981\n",
            "Epoch: 10/10..  Training Loss: 0.047..  Test Loss: 0.100..  Test Accuracy: 0.974\n",
            "Total_parameters: 282160.000.. \n"
          ],
          "name": "stdout"
        }
      ]
    }
  ]
}